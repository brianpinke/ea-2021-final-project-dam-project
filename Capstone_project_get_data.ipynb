{
 "cells": [
  {
   "cell_type": "code",
   "execution_count": 1,
   "id": "written-penny",
   "metadata": {},
   "outputs": [
    {
     "name": "stdout",
     "output_type": "stream",
     "text": [
      "File is unzipped in temp folder\n",
      "River file is unzipped in temp folder\n"
     ]
    }
   ],
   "source": [
    "# Import packages, download data, and set working directory here\n",
    "import os\n",
    "\n",
    "\n",
    "import numpy as np\n",
    "import matplotlib.pyplot as plt\n",
    "import fiona \n",
    "import geopandas as gpd\n",
    "import rasterio as rio\n",
    "import zipfile \n",
    "import earthpy as et\n",
    "\n",
    "\n",
    "#et.data.get_data(\"spatial-vector-lidar\")\n",
    "# Set working directory\n",
    "os.chdir(os.path.join(et.io.HOME,\n",
    "                      \"earth-analytics\",\n",
    "                      \"capstone_project\",\n",
    "                      \"data\"))\n",
    "\n",
    "# Get data - unzip https://stackoverflow.com/questions/3451111/unzipping-files-in-python\n",
    "# GRAND - Global Reservoir And Dam Database - http://globaldamwatch.org/\n",
    "with zipfile.ZipFile(\"GRanD_Version_1_3.zip\",\" r\") as zip_ref:\n",
    "    zip_ref.extractall(\"temp\")\n",
    "    print('File is unzipped in temp folder') \n",
    "    \n",
    "# World's free-flowing rivers dataset https://figshare.com/articles/dataset/Mapping_the_world_s_free-flowing_rivers_data_set_and_technical_documentation/7688801\n",
    "with zipfile.ZipFile(\"Mapping the worlds free-flowing rivers_Data_Geodatabase.zip\",\"r\") as zip_ref:\n",
    "    zip_ref.extractall(\"temp\")\n",
    "    print('River file is unzipped in temp folder')"
   ]
  },
  {
   "cell_type": "code",
   "execution_count": 3,
   "id": "synthetic-session",
   "metadata": {},
   "outputs": [
    {
     "name": "stdout",
     "output_type": "stream",
     "text": [
      "['Hydroelectricity' None 'Water supply' 'Other' 'Recreation' 'Irrigation'\n",
      " 'Flood control' 'Fisheries' 'Navigation']\n",
      "Number of observations without main dam use = 1561\n"
     ]
    },
    {
     "data": {
      "text/plain": [
       "<AxesSubplot:>"
      ]
     },
     "execution_count": 3,
     "metadata": {},
     "output_type": "execute_result"
    },
    {
     "data": {
      "image/png": "[encoded data removed]",
      "text/plain": [
       "<Figure size 432x288 with 1 Axes>"
      ]
     },
     "metadata": {
      "needs_background": "light"
     },
     "output_type": "display_data"
    }
   ],
   "source": [
    "# Data exploration of GRanD dam and reservoir data\n",
    "# Define path to file GRAND - Global Reservoir And Dam Database - http://globaldamwatch.org/\n",
    "plot_dam_path = os.path.join(\"temp\",\n",
    "                                 \"GRanD_Version_1_3\", \"GRanD_dams_v1_3.shp\")\n",
    "\n",
    "# Import shapefile using geopandas\n",
    "grand_dam_locations = gpd.read_file(plot_dam_path)\n",
    "# View top 6 rows of attribute table\n",
    "grand_dam_locations.head(6)\n",
    "\n",
    "# Column names https://cmdlinetips.com/2020/04/how-to-get-column-names-as-list-in-pandas/#:~:text=We%20can%20get%20the%20names,using%20Pandas%20method%20%E2%80%9Ccolumns%E2%80%9D.&text=Pandas'%20columns%20method%20returns%20the%20names%20as%20Pandas%20Index%20object.&text=We%20can%20convert%20the%20Pandas,using%20the%20tolist()%20method.\n",
    "grand_dam_locations.columns\n",
    "# count_row = grand_dam_locations.shape[0]  # Gives number of rows = 7320\n",
    "# count_col = grand_dam_locations.shape[1]  # Gives number of columns = 59\n",
    "# #count_row\n",
    "\n",
    "# Classes in dam purpose\n",
    "print (grand_dam_locations['MAIN_USE'].unique())\n",
    "#['Hydroelectricity' None 'Water supply' 'Other' 'Recreation' 'Irrigation'\n",
    "# 'Flood control' 'Fisheries' 'Navigation']\n",
    "\n",
    "#Number of observations missing MAIN_USE class (n = 1761 out of 7320)\n",
    "# https://medium.com/analytics-vidhya/python-finding-missing-values-in-a-data-frame-3030aaf0e4fd#:~:text=We%20can%20use%20pandas%20%E2%80%9Cisnull,()%20which%20is%20shown%20below.\n",
    "print('Number of observations without main dam use =', grand_dam_locations['MAIN_USE'].isnull().sum())\n",
    "\n",
    "# # # View the geometry type of each row\n",
    "#grand_dam_locations.geom_type\n",
    "\n",
    "# Plot points\n",
    "grand_dam_locations.plot()"
   ]
  },
  {
   "cell_type": "code",
   "execution_count": 11,
   "id": "answering-negative",
   "metadata": {},
   "outputs": [
    {
     "name": "stderr",
     "output_type": "stream",
     "text": [
      "C:\\Users\\Owner\\miniconda3\\envs\\earth-analytics-python\\lib\\site-packages\\fiona\\collection.py:350: FionaDeprecationWarning: Collection slicing is deprecated and will be disabled in a future version.\n",
      "  return self.session.__getitem__(item)\n"
     ]
    },
    {
     "data": {
      "text/plain": [
       "<AxesSubplot:>"
      ]
     },
     "execution_count": 11,
     "metadata": {},
     "output_type": "execute_result"
    },
    {
     "data": {
      "image/png": "[encoded data removed]",
      "text/plain": [
       "<Figure size 432x288 with 1 Axes>"
      ]
     },
     "metadata": {
      "needs_background": "light"
     },
     "output_type": "display_data"
    }
   ],
   "source": [
    "# Worlds Free-flowing rivers # https://figshare.com/articles/dataset/Mapping_the_world_s_free-flowing_rivers_data_set_and_technical_documentation/7688801\n",
    "\n",
    "## NOTE: The geodatabase is large and it was not loading on my computer as a whole\n",
    "# rather I was able to select parts of the database to be able to work with it\n",
    "\n",
    "###########\n",
    "## METHOD 1: Select specific rows\n",
    "# https://gis.stackexchange.com/questions/220023/only-read-specific-rows-of-a-shapefile-with-geopandas-fiona\n",
    "\n",
    "# Function to open features in geodatabase\n",
    "def records(filename, list):\n",
    "    list = sorted(list) # if the elements of the list are not sorted\n",
    "    with fiona.open(filename) as source:\n",
    "        for i, feature in enumerate(source[:max(list)+1]):\n",
    "            if i in list:\n",
    "                yield feature\n",
    "\n",
    "# Path where geodatabase is unzipped\n",
    "river_path = os.path.join(\"temp\",\n",
    "                          \"Mapping the worlds free-flowing rivers_Data_Geodatabase\", \n",
    "                          \"FFR_river_network.gdb\")\n",
    "\n",
    "test = gpd.GeoDataFrame.from_features(records(river_path, [4,0,7]))\n",
    "test\n",
    "#test.plot()"
   ]
  },
  {
   "cell_type": "code",
   "execution_count": 8,
   "id": "noticed-perry",
   "metadata": {},
   "outputs": [
    {
     "name": "stderr",
     "output_type": "stream",
     "text": [
      "C:\\Users\\Owner\\miniconda3\\envs\\earth-analytics-python\\lib\\site-packages\\geopandas\\geodataframe.py:577: RuntimeWarning: Sequential read of iterator was interrupted. Resetting iterator. This can negatively impact the performance.\n",
      "  for feature in features_lst:\n"
     ]
    },
    {
     "data": {
      "text/html": [
       "<div>\n",
       "<style scoped>\n",
       "    .dataframe tbody tr th:only-of-type {\n",
       "        vertical-align: middle;\n",
       "    }\n",
       "\n",
       "    .dataframe tbody tr th {\n",
       "        vertical-align: top;\n",
       "    }\n",
       "\n",
       "    .dataframe thead th {\n",
       "        text-align: right;\n",
       "    }\n",
       "</style>\n",
       "<table border=\"1\" class=\"dataframe\">\n",
       "  <thead>\n",
       "    <tr style=\"text-align: right;\">\n",
       "      <th></th>\n",
       "      <th>REACH_ID</th>\n",
       "      <th>GOID</th>\n",
       "      <th>NOID</th>\n",
       "      <th>NUOID</th>\n",
       "      <th>NDOID</th>\n",
       "      <th>CON_ID</th>\n",
       "      <th>CONTINENT</th>\n",
       "      <th>COUNTRY</th>\n",
       "      <th>BAS_ID</th>\n",
       "      <th>BAS_NAME</th>\n",
       "      <th>...</th>\n",
       "      <th>RDD</th>\n",
       "      <th>FLD</th>\n",
       "      <th>CSI</th>\n",
       "      <th>CSI_D</th>\n",
       "      <th>CSI_FF</th>\n",
       "      <th>CSI_FF1</th>\n",
       "      <th>CSI_FF2</th>\n",
       "      <th>CSI_FFID</th>\n",
       "      <th>Shape_Length</th>\n",
       "      <th>geometry</th>\n",
       "    </tr>\n",
       "  </thead>\n",
       "  <tbody>\n",
       "    <tr>\n",
       "      <th>0</th>\n",
       "      <td>70000001.0</td>\n",
       "      <td>7030255</td>\n",
       "      <td>7030255</td>\n",
       "      <td></td>\n",
       "      <td>0</td>\n",
       "      <td>1</td>\n",
       "      <td>North America</td>\n",
       "      <td>Canada</td>\n",
       "      <td>1519451</td>\n",
       "      <td></td>\n",
       "      <td>...</td>\n",
       "      <td>0.0</td>\n",
       "      <td>86.842003</td>\n",
       "      <td>100.0</td>\n",
       "      <td>NAN</td>\n",
       "      <td>1</td>\n",
       "      <td>1</td>\n",
       "      <td>1</td>\n",
       "      <td>3636077</td>\n",
       "      <td>0.018035</td>\n",
       "      <td>MULTILINESTRING ((-74.07292 62.65833, -74.0729...</td>\n",
       "    </tr>\n",
       "    <tr>\n",
       "      <th>1</th>\n",
       "      <td>70000002.0</td>\n",
       "      <td>7030256</td>\n",
       "      <td>7030256</td>\n",
       "      <td></td>\n",
       "      <td>0</td>\n",
       "      <td>1</td>\n",
       "      <td>North America</td>\n",
       "      <td>Canada</td>\n",
       "      <td>1519450</td>\n",
       "      <td></td>\n",
       "      <td>...</td>\n",
       "      <td>0.0</td>\n",
       "      <td>84.674004</td>\n",
       "      <td>100.0</td>\n",
       "      <td>NAN</td>\n",
       "      <td>1</td>\n",
       "      <td>1</td>\n",
       "      <td>1</td>\n",
       "      <td>3636078</td>\n",
       "      <td>0.041605</td>\n",
       "      <td>MULTILINESTRING ((-74.18750 62.64375, -74.1937...</td>\n",
       "    </tr>\n",
       "    <tr>\n",
       "      <th>2</th>\n",
       "      <td>70000003.0</td>\n",
       "      <td>7030257</td>\n",
       "      <td>7030257</td>\n",
       "      <td></td>\n",
       "      <td>0</td>\n",
       "      <td>1</td>\n",
       "      <td>North America</td>\n",
       "      <td>Canada</td>\n",
       "      <td>1525056</td>\n",
       "      <td></td>\n",
       "      <td>...</td>\n",
       "      <td>0.0</td>\n",
       "      <td>19.424000</td>\n",
       "      <td>100.0</td>\n",
       "      <td>NAN</td>\n",
       "      <td>1</td>\n",
       "      <td>1</td>\n",
       "      <td>1</td>\n",
       "      <td>3636079</td>\n",
       "      <td>0.028809</td>\n",
       "      <td>MULTILINESTRING ((-77.44167 62.54375, -77.4312...</td>\n",
       "    </tr>\n",
       "    <tr>\n",
       "      <th>3</th>\n",
       "      <td>70000004.0</td>\n",
       "      <td>7030258</td>\n",
       "      <td>7030258</td>\n",
       "      <td></td>\n",
       "      <td>0</td>\n",
       "      <td>1</td>\n",
       "      <td>North America</td>\n",
       "      <td>Canada</td>\n",
       "      <td>1527094</td>\n",
       "      <td></td>\n",
       "      <td>...</td>\n",
       "      <td>0.0</td>\n",
       "      <td>40.952000</td>\n",
       "      <td>100.0</td>\n",
       "      <td>NAN</td>\n",
       "      <td>1</td>\n",
       "      <td>1</td>\n",
       "      <td>1</td>\n",
       "      <td>3636080</td>\n",
       "      <td>0.014583</td>\n",
       "      <td>MULTILINESTRING ((-77.07708 62.51250, -77.0770...</td>\n",
       "    </tr>\n",
       "    <tr>\n",
       "      <th>4</th>\n",
       "      <td>70000005.0</td>\n",
       "      <td>7030259</td>\n",
       "      <td>7030259</td>\n",
       "      <td></td>\n",
       "      <td>0</td>\n",
       "      <td>1</td>\n",
       "      <td>North America</td>\n",
       "      <td>Canada</td>\n",
       "      <td>1525332</td>\n",
       "      <td></td>\n",
       "      <td>...</td>\n",
       "      <td>0.0</td>\n",
       "      <td>13.208000</td>\n",
       "      <td>100.0</td>\n",
       "      <td>NAN</td>\n",
       "      <td>1</td>\n",
       "      <td>1</td>\n",
       "      <td>1</td>\n",
       "      <td>3636081</td>\n",
       "      <td>0.072646</td>\n",
       "      <td>MULTILINESTRING ((-77.47083 62.50417, -77.4395...</td>\n",
       "    </tr>\n",
       "  </tbody>\n",
       "</table>\n",
       "<p>5 rows × 39 columns</p>\n",
       "</div>"
      ],
      "text/plain": [
       "     REACH_ID     GOID     NOID NUOID  NDOID  CON_ID      CONTINENT COUNTRY  \\\n",
       "0  70000001.0  7030255  7030255            0       1  North America  Canada   \n",
       "1  70000002.0  7030256  7030256            0       1  North America  Canada   \n",
       "2  70000003.0  7030257  7030257            0       1  North America  Canada   \n",
       "3  70000004.0  7030258  7030258            0       1  North America  Canada   \n",
       "4  70000005.0  7030259  7030259            0       1  North America  Canada   \n",
       "\n",
       "    BAS_ID BAS_NAME  ...  RDD        FLD    CSI  CSI_D  CSI_FF  CSI_FF1  \\\n",
       "0  1519451           ...  0.0  86.842003  100.0    NAN       1        1   \n",
       "1  1519450           ...  0.0  84.674004  100.0    NAN       1        1   \n",
       "2  1525056           ...  0.0  19.424000  100.0    NAN       1        1   \n",
       "3  1527094           ...  0.0  40.952000  100.0    NAN       1        1   \n",
       "4  1525332           ...  0.0  13.208000  100.0    NAN       1        1   \n",
       "\n",
       "   CSI_FF2  CSI_FFID Shape_Length  \\\n",
       "0        1   3636077     0.018035   \n",
       "1        1   3636078     0.041605   \n",
       "2        1   3636079     0.028809   \n",
       "3        1   3636080     0.014583   \n",
       "4        1   3636081     0.072646   \n",
       "\n",
       "                                            geometry  \n",
       "0  MULTILINESTRING ((-74.07292 62.65833, -74.0729...  \n",
       "1  MULTILINESTRING ((-74.18750 62.64375, -74.1937...  \n",
       "2  MULTILINESTRING ((-77.44167 62.54375, -77.4312...  \n",
       "3  MULTILINESTRING ((-77.07708 62.51250, -77.0770...  \n",
       "4  MULTILINESTRING ((-77.47083 62.50417, -77.4395...  \n",
       "\n",
       "[5 rows x 39 columns]"
      ]
     },
     "execution_count": 8,
     "metadata": {},
     "output_type": "execute_result"
    }
   ],
   "source": [
    "############\n",
    "# METHOD 2: Use a bounding box to select subset of data\n",
    "# https://geopandas.org/docs/user_guide/io.html\n",
    "# US bounding box values https://gist.github.com/graydon/11198540\n",
    "\n",
    "# Specify bounding box coordinates\n",
    "bbox = (-171.791110603, 18.91619, -66.96466, 71.3577635769)\n",
    "\n",
    "# Path where geodatabase is unzipped\n",
    "river_path = os.path.join(\"temp\",\n",
    "                          \"Mapping the worlds free-flowing rivers_Data_Geodatabase\", \n",
    "                          \"FFR_river_network.gdb\")\n",
    "\n",
    "gdf = gpd.read_file(river_path,\n",
    "    bbox=bbox)\n",
    "\n",
    "gdf.head()"
   ]
  },
  {
   "cell_type": "code",
   "execution_count": 9,
   "id": "expanded-trunk",
   "metadata": {},
   "outputs": [
    {
     "data": {
      "text/plain": [
       "<AxesSubplot:>"
      ]
     },
     "execution_count": 9,
     "metadata": {},
     "output_type": "execute_result"
    },
    {
     "data": {
      "image/png": "[encoded data removed]",
      "text/plain": [
       "<Figure size 432x288 with 1 Axes>"
      ]
     },
     "metadata": {
      "needs_background": "light"
     },
     "output_type": "display_data"
    }
   ],
   "source": [
    "gdf.plot()"
   ]
  },
  {
   "cell_type": "code",
   "execution_count": 10,
   "id": "flush-elephant",
   "metadata": {},
   "outputs": [
    {
     "data": {
      "text/plain": [
       "Index(['REACH_ID', 'GOID', 'NOID', 'NUOID', 'NDOID', 'CON_ID', 'CONTINENT',\n",
       "       'COUNTRY', 'BAS_ID', 'BAS_NAME', 'LENGTH_KM', 'VOLUME_TCM',\n",
       "       'UPLAND_SKM', 'DIS_AV_CMS', 'RIV_ORD', 'ERO_YLD_TON', 'HYFALL', 'BB_ID',\n",
       "       'BB_NAME', 'BB_LEN_KM', 'BB_DIS_ORD', 'BB_VOL_TCM', 'BB_OCEAN', 'INC',\n",
       "       'DOF', 'DOR', 'SED', 'USE', 'URB', 'RDD', 'FLD', 'CSI', 'CSI_D',\n",
       "       'CSI_FF', 'CSI_FF1', 'CSI_FF2', 'CSI_FFID', 'Shape_Length', 'geometry'],\n",
       "      dtype='object')"
      ]
     },
     "execution_count": 10,
     "metadata": {},
     "output_type": "execute_result"
    }
   ],
   "source": [
    "gdf.columns"
   ]
  },
  {
   "cell_type": "code",
   "execution_count": null,
   "id": "normal-display",
   "metadata": {},
   "outputs": [],
   "source": [
    "# # World's free flowing river data import - NOT WORKING - COMPUTER SHUTS DOWN\n",
    "# # Data exploration \n",
    "# # Define path to file World's free-flowing river dataset - \n",
    "# # https://figshare.com/articles/dataset/Mapping_the_world_s_free-flowing_rivers_data_set_and_technical_documentation/7688801\n",
    "# river_path = os.path.join(\"temp\",\n",
    "#                                \"Mapping the worlds free-flowing rivers_Data_Geodatabase\", \n",
    "#                                \"FFR_river_network.gdb\")\n",
    "\n",
    "# # Get all the layers from the .gdb file \n",
    "# # https://gis.stackexchange.com/questions/32762/how-to-access-feature-classes-in-file-geodatabases-with-python-and-gdal\n",
    "# # https://gis.stackexchange.com/questions/255138/reading-the-names-of-geodatabase-file-layers-in-python\n",
    "# layers = fiona.listlayers(river_path) #'FFR_river_network_v1'\n",
    "\n",
    "# gdb_river = gpd.read_file(river_path, driver='FileGDB', layer='FFR_river_network_v1')\n",
    "# # for layer in layers:\n",
    "# #     gdf = gpd.read_file(plot_river_path,layer=layer)\n",
    "# #     # Do stuff with the gdf\n",
    "# #     gdf.head()\n",
    "# # # Import shapefile using geopandas\n",
    "# # gdb_river = gpd.read_file(plot_river_path) \n",
    "\n",
    "# # gdb_river.head()\n",
    "\n",
    "\n",
    "# # # Import shapefile using geopandas\n",
    "# # grand_dam_locations = gpd.read_file(plot_dam_path)"
   ]
  }
 ],
 "metadata": {
  "kernelspec": {
   "display_name": "Python 3",
   "language": "python",
   "name": "python3"
  },
  "language_info": {
   "codemirror_mode": {
    "name": "ipython",
    "version": 3
   },
   "file_extension": ".py",
   "mimetype": "text/x-python",
   "name": "python",
   "nbconvert_exporter": "python",
   "pygments_lexer": "ipython3",
   "version": "3.8.6"
  },
  "toc": {
   "base_numbering": 1,
   "nav_menu": {},
   "number_sections": true,
   "sideBar": true,
   "skip_h1_title": false,
   "title_cell": "Table of Contents",
   "title_sidebar": "Contents",
   "toc_cell": false,
   "toc_position": {},
   "toc_section_display": true,
   "toc_window_display": false
  }
 },
 "nbformat": 4,
 "nbformat_minor": 5
}
